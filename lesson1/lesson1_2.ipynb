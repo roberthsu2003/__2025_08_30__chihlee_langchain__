{
 "cells": [
  {
   "cell_type": "markdown",
   "id": "d5111073",
   "metadata": {},
   "source": [
    "### 這是langchain的課程"
   ]
  },
  {
   "cell_type": "code",
   "execution_count": 1,
   "id": "0f31a0f2",
   "metadata": {},
   "outputs": [
    {
     "name": "stdout",
     "output_type": "stream",
     "text": [
      "Hello, World!\n"
     ]
    }
   ],
   "source": [
    "print(\"Hello, World!\")"
   ]
  }
 ],
 "metadata": {
  "kernelspec": {
   "display_name": "langchain",
   "language": "python",
   "name": "python3"
  },
  "language_info": {
   "codemirror_mode": {
    "name": "ipython",
    "version": 3
   },
   "file_extension": ".py",
   "mimetype": "text/x-python",
   "name": "python",
   "nbconvert_exporter": "python",
   "pygments_lexer": "ipython3",
   "version": "3.11.13"
  }
 },
 "nbformat": 4,
 "nbformat_minor": 5
}
