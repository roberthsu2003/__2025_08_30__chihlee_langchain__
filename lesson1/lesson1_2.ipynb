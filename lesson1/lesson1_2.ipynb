{
 "cells": [
  {
   "cell_type": "markdown",
   "id": "d5111073",
   "metadata": {},
   "source": [
    "### 這是langchain的課程"
   ]
  },
  {
   "cell_type": "code",
   "execution_count": 1,
   "id": "0f31a0f2",
   "metadata": {},
   "outputs": [
    {
     "name": "stdout",
     "output_type": "stream",
     "text": [
      "Hello, World!\n"
     ]
    }
   ],
   "source": [
    "print(\"Hello, World!\")"
   ]
  },
  {
   "cell_type": "code",
   "execution_count": 2,
   "id": "81c67cd1",
   "metadata": {},
   "outputs": [
    {
     "name": "stdout",
     "output_type": "stream",
     "text": [
      "my_int: 10 型別: <class 'int'>\n",
      "my_float: 3.14 型別: <class 'float'>\n",
      "my_str: LangChain 型別: <class 'str'>\n",
      "my_bool: True 型別: <class 'bool'>\n",
      "加法 a + b = 10\n",
      "減法 a - b = 4\n",
      "乘法 a * b = 21\n",
      "除法 a / b = 2.3333333333333335\n",
      "取餘數 a % b = 1\n",
      "次方 a ** b = 343\n"
     ]
    }
   ],
   "source": [
    "# 建立不同型別的變數\n",
    "my_int = 10            # 整數 (int)\n",
    "my_float = 3.14        # 浮點數 (float)\n",
    "my_str = \"LangChain\"   # 字串 (str)\n",
    "my_bool = True         # 布林值 (bool)\n",
    "\n",
    "# 顯示變數的內容與型別\n",
    "print(\"my_int:\", my_int, \"型別:\", type(my_int))\n",
    "print(\"my_float:\", my_float, \"型別:\", type(my_float))\n",
    "print(\"my_str:\", my_str, \"型別:\", type(my_str))\n",
    "print(\"my_bool:\", my_bool, \"型別:\", type(my_bool))\n",
    "\n",
    "# 數學運算範例\n",
    "a = 7\n",
    "b = 3\n",
    "\n",
    "加法 = a + b\n",
    "減法 = a - b\n",
    "乘法 = a * b\n",
    "除法 = a / b\n",
    "取餘數 = a % b\n",
    "次方 = a ** b\n",
    "\n",
    "print(\"加法 a + b =\", 加法)\n",
    "print(\"減法 a - b =\", 減法)\n",
    "print(\"乘法 a * b =\", 乘法)\n",
    "print(\"除法 a / b =\", 除法)\n",
    "print(\"取餘數 a % b =\", 取餘數)\n",
    "print(\"次方 a ** b =\", 次方)\n"
   ]
  }
 ],
 "metadata": {
  "kernelspec": {
   "display_name": "langchain",
   "language": "python",
   "name": "python3"
  },
  "language_info": {
   "codemirror_mode": {
    "name": "ipython",
    "version": 3
   },
   "file_extension": ".py",
   "mimetype": "text/x-python",
   "name": "python",
   "nbconvert_exporter": "python",
   "pygments_lexer": "ipython3",
   "version": "3.11.13"
  }
 },
 "nbformat": 4,
 "nbformat_minor": 5
}
