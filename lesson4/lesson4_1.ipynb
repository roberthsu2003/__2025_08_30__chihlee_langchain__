{
 "cells": [
  {
   "cell_type": "markdown",
   "id": "4ab2d8c1",
   "metadata": {},
   "source": [
    "### 使用ollama"
   ]
  },
  {
   "cell_type": "code",
   "execution_count": 3,
   "id": "6cf91829",
   "metadata": {},
   "outputs": [
    {
     "name": "stdout",
     "output_type": "stream",
     "text": [
      "<class 'langchain_core.messages.ai.AIMessage'>\n",
      "所有答案\n",
      "content='81 除以 9 的结果为：\\n\\n81 ÷ 9 = 9' additional_kwargs={} response_metadata={'model': 'llama3.2:latest', 'created_at': '2025-09-20T06:37:47.947859Z', 'done': True, 'done_reason': 'stop', 'total_duration': 244578167, 'load_duration': 56243334, 'prompt_eval_count': 33, 'prompt_eval_duration': 50035125, 'eval_count': 19, 'eval_duration': 137807625, 'model_name': 'llama3.2:latest'} id='run--7ce1f441-b658-4af2-b047-a99404020b6e-0' usage_metadata={'input_tokens': 33, 'output_tokens': 19, 'total_tokens': 52}\n",
      "回答內容是\n",
      "81 除以 9 的结果为：\n",
      "\n",
      "81 ÷ 9 = 9\n"
     ]
    }
   ],
   "source": [
    "from langchain_ollama import ChatOllama\n",
    "\n",
    "\n",
    "# Create a ChatOllama model\n",
    "# 透過網址的方式連結ollama (指定 base_url 指向 Ollama server)\n",
    "# 預設 Ollama server 在本機的 11434 埠，若在其他主機或埠請改成相對應的網址\n",
    "\n",
    "#model = ChatOllama(model=\"llama3.2:latest\", base_url=\"http://host.docker.internal:11434\")\n",
    "model = ChatOllama(model=\"llama3.2:latest\",base_url=\"http://localhost:11434\")\n",
    "\n",
    "\n",
    "# Invoke the model with a message\n",
    "result = model.invoke(\"81除以9的答案是?\")\n",
    "print(type(result))\n",
    "print(\"所有答案\")\n",
    "print(result)\n",
    "print(\"回答內容是\")\n",
    "print(result.content)"
   ]
  },
  {
   "cell_type": "markdown",
   "id": "61a74794",
   "metadata": {},
   "source": [
    "### google-gemini"
   ]
  },
  {
   "cell_type": "code",
   "execution_count": null,
   "id": "639959f9",
   "metadata": {},
   "outputs": [
    {
     "name": "stdout",
     "output_type": "stream",
     "text": [
      "<class 'langchain_google_genai.chat_models.ChatGoogleGenerativeAI'>\n"
     ]
    },
    {
     "name": "stderr",
     "output_type": "stream",
     "text": [
      "E0000 00:00:1758354888.318722  258562 alts_credentials.cc:93] ALTS creds ignored. Not running on GCP and untrusted ALTS is not enabled.\n"
     ]
    },
    {
     "name": "stdout",
     "output_type": "stream",
     "text": [
      "<class 'langchain_core.messages.ai.AIMessage'>\n",
      "所有答案\n",
      "秋風不語過窗櫺，\n",
      "涼意漸生入畫屏。\n",
      "天高雲淡雁字遠，\n",
      "拂曉薄霧輕紗輕。\n",
      "\n",
      "層林盡染披錦繡，\n",
      "楓葉流丹勝火明。\n",
      "菊香暗送幽徑處，\n",
      "橙黃柿子掛枝盈。\n",
      "\n",
      "蕭瑟之音隨風起，\n",
      "落葉翩然舞不停。\n",
      "溪水潺潺清且澈，\n",
      "石橋小徑寂無聲。\n",
      "\n",
      "田疇金浪麥穗沉，\n",
      "果蔬豐盈慰辛勤。\n",
      "農家院落炊煙暖，\n",
      "笑語歡聲慶豐稔。\n",
      "\n",
      "歲月流轉不待人，\n",
      "幾許愁思入夢深。\n",
      "且將詩意融杯酒，\n",
      "淡看枯榮寫我心。\n",
      "\n",
      "秋色如畫意境幽，\n",
      "雖有蕭瑟亦溫柔。\n",
      "待到冬來雪初降，\n",
      "卻道最美是這秋。\n",
      "回答內容是\n",
      "秋風不語過窗櫺，\n",
      "涼意漸生入畫屏。\n",
      "天高雲淡雁字遠，\n",
      "拂曉薄霧輕紗輕。\n",
      "\n",
      "層林盡染披錦繡，\n",
      "楓葉流丹勝火明。\n",
      "菊香暗送幽徑處，\n",
      "橙黃柿子掛枝盈。\n",
      "\n",
      "蕭瑟之音隨風起，\n",
      "落葉翩然舞不停。\n",
      "溪水潺潺清且澈，\n",
      "石橋小徑寂無聲。\n",
      "\n",
      "田疇金浪麥穗沉，\n",
      "果蔬豐盈慰辛勤。\n",
      "農家院落炊煙暖，\n",
      "笑語歡聲慶豐稔。\n",
      "\n",
      "歲月流轉不待人，\n",
      "幾許愁思入夢深。\n",
      "且將詩意融杯酒，\n",
      "淡看枯榮寫我心。\n",
      "\n",
      "秋色如畫意境幽，\n",
      "雖有蕭瑟亦溫柔。\n",
      "待到冬來雪初降，\n",
      "卻道最美是這秋。\n"
     ]
    }
   ],
   "source": [
    "from dotenv import load_dotenv\n",
    "from langchain_google_genai import ChatGoogleGenerativeAI\n",
    "\n",
    "# Load environment variables from .env\n",
    "load_dotenv()\n",
    "\n",
    "# Create a ChatGoogleGenerativeAI model\n",
    "model = ChatGoogleGenerativeAI(model=\"gemini-2.5-flash\",temperature=1)\n",
    "print(type(model))\n",
    "\n",
    "#Invoke the model with a message\n",
    "result = model.invoke(\"請用中文寫一首關於秋天的詩\")\n",
    "print(type(result))\n",
    "print(\"所有答案\")\n",
    "#json_data = result.to_json()\n",
    "#print(json_data[\"kwargs\"][\"content\"])\n",
    "print(\"回答內容是\")\n",
    "print(result.content)"
   ]
  },
  {
   "cell_type": "code",
   "execution_count": 9,
   "id": "7f5f14d8",
   "metadata": {},
   "outputs": [
    {
     "name": "stdout",
     "output_type": "stream",
     "text": [
      "<class 'langchain_core.messages.ai.AIMessage'>\n",
      "所有答案\n",
      "content='81 ÷ 9 = 9。因为 9 × 9 = 81。' additional_kwargs={'refusal': None} response_metadata={'token_usage': {'completion_tokens': 92, 'prompt_tokens': 14, 'total_tokens': 106, 'completion_tokens_details': {'accepted_prediction_tokens': 0, 'audio_tokens': 0, 'reasoning_tokens': 64, 'rejected_prediction_tokens': 0}, 'prompt_tokens_details': {'audio_tokens': 0, 'cached_tokens': 0}}, 'model_name': 'gpt-5-mini-2025-08-07', 'system_fingerprint': None, 'id': 'chatcmpl-CHmIGLCRzxyLGCS1kvkuOg9v33r7O', 'service_tier': 'default', 'finish_reason': 'stop', 'logprobs': None} id='run--9431b8bb-1333-400c-a48b-99e63050292e-0' usage_metadata={'input_tokens': 14, 'output_tokens': 92, 'total_tokens': 106, 'input_token_details': {'audio': 0, 'cache_read': 0}, 'output_token_details': {'audio': 0, 'reasoning': 64}}\n",
      "回答內容是\n",
      "81 ÷ 9 = 9。因为 9 × 9 = 81。\n"
     ]
    }
   ],
   "source": [
    "from dotenv import load_dotenv\n",
    "from langchain_openai import ChatOpenAI\n",
    "\n",
    "# Load environment variables from .env\n",
    "load_dotenv()\n",
    "\n",
    "# Create a ChatOpenAI model\n",
    "model = ChatOpenAI(model=\"gpt-5-mini\")\n",
    "\n",
    "# Invoke the model with a message\n",
    "result = model.invoke(\"81除以9的答案是?\")\n",
    "print(type(result))\n",
    "print(\"所有答案\")\n",
    "print(result)\n",
    "print(\"回答內容是\")\n",
    "print(result.content)"
   ]
  },
  {
   "cell_type": "code",
   "execution_count": 10,
   "id": "fa14e504",
   "metadata": {},
   "outputs": [
    {
     "name": "stdout",
     "output_type": "stream",
     "text": [
      "<class 'langchain_core.messages.ai.AIMessage'>\n",
      "所有答案\n",
      "content='81 ÷ 9 = 9' additional_kwargs={} response_metadata={'id': 'msg_01KNd9Ppa7QcJ6uf6M63Qkqe', 'model': 'claude-3-5-sonnet-20241022', 'stop_reason': 'end_turn', 'stop_sequence': None, 'usage': {'cache_creation': {'ephemeral_1h_input_tokens': 0, 'ephemeral_5m_input_tokens': 0}, 'cache_creation_input_tokens': 0, 'cache_read_input_tokens': 0, 'input_tokens': 17, 'output_tokens': 16, 'server_tool_use': None, 'service_tier': 'standard'}, 'model_name': 'claude-3-5-sonnet-20241022'} id='run--f16e1c0b-6b18-4477-95a2-1b6a8c074055-0' usage_metadata={'input_tokens': 17, 'output_tokens': 16, 'total_tokens': 33, 'input_token_details': {'cache_read': 0, 'cache_creation': 0, 'ephemeral_5m_input_tokens': 0, 'ephemeral_1h_input_tokens': 0}}\n",
      "回答內容是\n",
      "81 ÷ 9 = 9\n"
     ]
    }
   ],
   "source": [
    "from dotenv import load_dotenv\n",
    "from langchain_anthropic import ChatAnthropic\n",
    "\n",
    "# Load environment variables from .env\n",
    "load_dotenv()\n",
    "\n",
    "# Create a ChatAnthropic model\n",
    "model = ChatAnthropic(model=\"claude-3-5-sonnet-latest\")\n",
    "\n",
    "\n",
    "# Invoke the model with a message\n",
    "result = model.invoke(\"81除以9的答案是?\")\n",
    "print(type(result))\n",
    "print(\"所有答案\")\n",
    "print(result)\n",
    "print(\"回答內容是\")\n",
    "print(result.content)"
   ]
  }
 ],
 "metadata": {
  "kernelspec": {
   "display_name": ".venv",
   "language": "python",
   "name": "python3"
  },
  "language_info": {
   "codemirror_mode": {
    "name": "ipython",
    "version": 3
   },
   "file_extension": ".py",
   "mimetype": "text/x-python",
   "name": "python",
   "nbconvert_exporter": "python",
   "pygments_lexer": "ipython3",
   "version": "3.10.18"
  }
 },
 "nbformat": 4,
 "nbformat_minor": 5
}
