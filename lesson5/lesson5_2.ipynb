{
 "cells": [
  {
   "cell_type": "code",
   "execution_count": null,
   "id": "fca830fb",
   "metadata": {},
   "outputs": [
    {
     "name": "stderr",
     "output_type": "stream",
     "text": [
      "/Users/roberthsu2003/Documents/GitHub/__2025_08_30__chihlee_langchain__/.venv/lib/python3.10/site-packages/tqdm/auto.py:21: TqdmWarning: IProgress not found. Please update jupyter and ipywidgets. See https://ipywidgets.readthedocs.io/en/stable/user_install.html\n",
      "  from .autonotebook import tqdm as notebook_tqdm\n"
     ]
    },
    {
     "name": "stdout",
     "output_type": "stream",
     "text": [
      "* Running on local URL:  http://127.0.0.1:7863\n",
      "* To create a public link, set `share=True` in `launch()`.\n"
     ]
    },
    {
     "data": {
      "text/html": [
       "<div><iframe src=\"http://127.0.0.1:7863/\" width=\"100%\" height=\"500\" allow=\"autoplay; camera; microphone; clipboard-read; clipboard-write;\" frameborder=\"0\" allowfullscreen></iframe></div>"
      ],
      "text/plain": [
       "<IPython.core.display.HTML object>"
      ]
     },
     "metadata": {},
     "output_type": "display_data"
    },
    {
     "data": {
      "text/plain": []
     },
     "execution_count": 1,
     "metadata": {},
     "output_type": "execute_result"
    },
    {
     "name": "stderr",
     "output_type": "stream",
     "text": [
      "Traceback (most recent call last):\n",
      "  File \"/Users/roberthsu2003/Documents/GitHub/__2025_08_30__chihlee_langchain__/.venv/lib/python3.10/site-packages/gradio/queueing.py\", line 745, in process_events\n",
      "    response = await route_utils.call_process_api(\n",
      "  File \"/Users/roberthsu2003/Documents/GitHub/__2025_08_30__chihlee_langchain__/.venv/lib/python3.10/site-packages/gradio/route_utils.py\", line 354, in call_process_api\n",
      "    output = await app.get_blocks().process_api(\n",
      "  File \"/Users/roberthsu2003/Documents/GitHub/__2025_08_30__chihlee_langchain__/.venv/lib/python3.10/site-packages/gradio/blocks.py\", line 2112, in process_api\n",
      "    inputs = await self.preprocess_data(\n",
      "  File \"/Users/roberthsu2003/Documents/GitHub/__2025_08_30__chihlee_langchain__/.venv/lib/python3.10/site-packages/gradio/blocks.py\", line 1774, in preprocess_data\n",
      "    processed_input.append(block.preprocess(inputs_cached))\n",
      "  File \"/Users/roberthsu2003/Documents/GitHub/__2025_08_30__chihlee_langchain__/.venv/lib/python3.10/site-packages/gradio/components/slider.py\", line 155, in preprocess\n",
      "    Number.raise_if_out_of_bounds(payload, self.minimum, self.maximum)\n",
      "  File \"/Users/roberthsu2003/Documents/GitHub/__2025_08_30__chihlee_langchain__/.venv/lib/python3.10/site-packages/gradio/components/number.py\", line 128, in raise_if_out_of_bounds\n",
      "    if minimum is not None and num < minimum:\n",
      "TypeError: '<' not supported between instances of 'str' and 'int'\n"
     ]
    }
   ],
   "source": [
    "import gradio as gr\n",
    "\n",
    "def greet(name, intensity):\n",
    "    return \"Hello, \" + name + \"!\" * int(intensity)\n",
    "\n",
    "demo = gr.Interface(\n",
    "    fn=greet,\n",
    "    inputs=[\"text\", \"slider\"],\n",
    "    outputs=[\"text\"],\n",
    "    examples = [[\"徐國堂\",2],[\"徐瑞彤\",1]]\n",
    ")\n",
    "demo.launch()"
   ]
  }
 ],
 "metadata": {
  "kernelspec": {
   "display_name": ".venv",
   "language": "python",
   "name": "python3"
  },
  "language_info": {
   "codemirror_mode": {
    "name": "ipython",
    "version": 3
   },
   "file_extension": ".py",
   "mimetype": "text/x-python",
   "name": "python",
   "nbconvert_exporter": "python",
   "pygments_lexer": "ipython3",
   "version": "3.10.18"
  }
 },
 "nbformat": 4,
 "nbformat_minor": 5
}
