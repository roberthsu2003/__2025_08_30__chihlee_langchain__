{
 "cells": [
  {
   "cell_type": "code",
   "execution_count": 1,
   "id": "aec7138d",
   "metadata": {},
   "outputs": [
    {
     "name": "stdout",
     "output_type": "stream",
     "text": [
      "=== Ollama 模型設定完成 ===\n",
      "使用模型: gemma3:270m\n",
      "模型類型: <class 'langchain_ollama.llms.OllamaLLM'>\n"
     ]
    }
   ],
   "source": [
    "from langchain_ollama import OllamaLLM\n",
    "\n",
    "model = OllamaLLM(model=\"gemma3:270m\")\n",
    "print(\"=== Ollama 模型設定完成 ===\")\n",
    "print(f\"使用模型: gemma3:270m\")\n",
    "print(f\"模型類型: {type(model)}\")"
   ]
  },
  {
   "cell_type": "code",
   "execution_count": 11,
   "id": "9eaae317",
   "metadata": {},
   "outputs": [
    {
     "name": "stdout",
     "output_type": "stream",
     "text": [
      "=== 基本 Prompt Template 範例 ===\n",
      "\n",
      "你是一位專業的繁體中文翻譯家，具有豐富的語言學背景。\n",
      "請將使用者提供的以下英文句子翻譯成流暢、自然的繁體中文。\n",
      "\n",
      "英文句子：Despite the initial skepticism from the board, the engineering team persevered with their unconventional approach, which ultimately proved to be the breakthrough the company desperately needed.\n",
      "繁體中文翻譯：\n",
      "\n",
      "\n",
      "==================================================\n",
      "Ollama gemma3:1b模型回應:\n",
      "以下是幾個翻譯選項，各有側重點，你可以根據需要選擇：\n",
      "\n",
      "**選項一 (較正式，強調克服困難)：**\n",
      "\n",
      "「雖然最初的董事會對這個方法有疑慮，但工程團隊仍堅持著他們的獨特嘗試，最終卻成為了公司 desperately  desperately  desperately  desperately  desperately 需要的突破。」\n",
      "\n",
      "**選項二 (較自然，更強調毅力)：**\n",
      "\n",
      "「董事會最初對這個方案有些抵觸，但工程團隊還是堅持著他們的獨創性，最終這份方案卻是公司 desperately  desperately  desperately  desperately  desperately  desperately 需要的關鍵。」\n",
      "\n",
      "**選項三 (簡潔，強調關鍵)：**\n",
      "\n",
      "「董事會最初對這個方法有疑慮，但工程團隊堅持著他們的獨特想法，最終卻是公司 desperately  desperately  desperately  desperately  desperately  desperately  desperately 需要的關鍵。」\n",
      "\n",
      "\n",
      "**選擇建議：**\n",
      "\n",
      "* 如果要表現出專業和嚴肅的語氣，建議選擇選項一。\n",
      "* 如果想要更貼近口語，選擇選項二。\n",
      "* 如果想強調「突破」的重要性，可以選擇選項三。\n",
      "\n",
      "希望這些翻譯能幫到你！\n",
      "\n"
     ]
    }
   ],
   "source": [
    "# 1. 基本 Prompt Template 使用\n",
    "from langchain.prompts import PromptTemplate\n",
    "from langchain_ollama import OllamaLLM\n",
    "\n",
    "model = OllamaLLM(model=\"gemma3:1b\")\n",
    "\n",
    "# 建立翻譯模板\n",
    "template_text = \"\"\"\n",
    "你是一位專業的繁體中文翻譯家，具有豐富的語言學背景。\n",
    "請將使用者提供的以下英文句子翻譯成流暢、自然的繁體中文。\n",
    "\n",
    "英文句子：{english_sentence}\n",
    "繁體中文翻譯：\n",
    "\"\"\"\n",
    "\n",
    "# 建立 Prompt Template\n",
    "prompt_template = PromptTemplate(\n",
    "    template=template_text,\n",
    "    input_variables=[\"english_sentence\"]\n",
    "    \n",
    ")\n",
    "\n",
    "# 使用模板\n",
    "formatted_prompt = prompt_template.format(english_sentence=\"Despite the initial skepticism from the board, the engineering team persevered with their unconventional approach, which ultimately proved to be the breakthrough the company desperately needed.\")\n",
    "print(\"=== 基本 Prompt Template 範例 ===\")\n",
    "print(formatted_prompt)\n",
    "print(\"\\n\" + \"=\"*50)\n",
    "print(\"Ollama gemma3:1b模型回應:\")\n",
    "\n",
    "response = model.invoke(formatted_prompt)\n",
    "print(response)"
   ]
  }
 ],
 "metadata": {
  "kernelspec": {
   "display_name": ".venv",
   "language": "python",
   "name": "python3"
  },
  "language_info": {
   "codemirror_mode": {
    "name": "ipython",
    "version": 3
   },
   "file_extension": ".py",
   "mimetype": "text/x-python",
   "name": "python",
   "nbconvert_exporter": "python",
   "pygments_lexer": "ipython3",
   "version": "3.10.18"
  }
 },
 "nbformat": 4,
 "nbformat_minor": 5
}
