{
 "cells": [
  {
   "cell_type": "code",
   "execution_count": null,
   "id": "506ddda3",
   "metadata": {},
   "outputs": [
    {
     "name": "stdout",
     "output_type": "stream",
     "text": [
      "斜邊長度 = 6.40\n"
     ]
    }
   ],
   "source": [
    "import math\n",
    "\n",
    "adjacent_side = 5\n",
    "opposite_side = 4\n",
    "\n",
    "hypotenuse_length = math.sqrt(adjacent_side ** 2 + opposite_side ** 2)\n",
    "print(f\"斜邊長度 = {hypotenuse_length:.2f}\")"
   ]
  },
  {
   "cell_type": "code",
   "execution_count": null,
   "id": "4153be3d",
   "metadata": {},
   "outputs": [
    {
     "name": "stdout",
     "output_type": "stream",
     "text": [
      "robert\n"
     ]
    }
   ],
   "source": [
    "is_nice:bool = False\n",
    "print(\"robert\")\n",
    "#單項選擇\n",
    "if is_nice:\n",
    "    print(\"他人不錯\")"
   ]
  },
  {
   "cell_type": "code",
   "execution_count": 5,
   "id": "3a601bc8",
   "metadata": {},
   "outputs": [
    {
     "name": "stdout",
     "output_type": "stream",
     "text": [
      "robert\n",
      "他人不錯\n"
     ]
    }
   ],
   "source": [
    "is_nice:bool = True\n",
    "print(\"robert\")\n",
    "#雙向選擇\n",
    "if is_nice:\n",
    "    print(\"他人不錯\")\n",
    "else:\n",
    "    print(\"它一般般\")"
   ]
  },
  {
   "cell_type": "code",
   "execution_count": null,
   "id": "dbe61105",
   "metadata": {},
   "outputs": [],
   "source": [
    "scores = 75\n",
    "if scores >= 60:\n",
    "    print(\"及格\")\n",
    "else:\n",
    "    print(\"不及格\")\n"
   ]
  }
 ],
 "metadata": {
  "kernelspec": {
   "display_name": "langchain",
   "language": "python",
   "name": "python3"
  },
  "language_info": {
   "codemirror_mode": {
    "name": "ipython",
    "version": 3
   },
   "file_extension": ".py",
   "mimetype": "text/x-python",
   "name": "python",
   "nbconvert_exporter": "python",
   "pygments_lexer": "ipython3",
   "version": "3.11.13"
  }
 },
 "nbformat": 4,
 "nbformat_minor": 5
}
