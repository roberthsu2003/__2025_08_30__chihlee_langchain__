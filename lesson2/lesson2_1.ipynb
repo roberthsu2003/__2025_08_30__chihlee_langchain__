{
 "cells": [
  {
   "cell_type": "markdown",
   "id": "0b6549cb",
   "metadata": {},
   "source": [
    "## python 數學運算"
   ]
  },
  {
   "cell_type": "markdown",
   "id": "c7a0ae82",
   "metadata": {},
   "source": [
    "```\n",
    "# 基本語法：變數名稱 = 值\n",
    "name = \"小明\"\n",
    "age = 18\n",
    "height = 175.5\n",
    "is_student = True\n",
    "```"
   ]
  },
  {
   "cell_type": "code",
   "execution_count": 12,
   "id": "5262887e",
   "metadata": {},
   "outputs": [
    {
     "name": "stdout",
     "output_type": "stream",
     "text": [
      "小明\n",
      "<class 'str'>\n",
      "================\n",
      "18\n",
      "<class 'int'>\n",
      "=================\n",
      "175.5\n",
      "<class 'float'>\n",
      "===============\n",
      "True\n",
      "<class 'bool'>\n"
     ]
    }
   ],
   "source": [
    "name = \"小明\"\n",
    "print(name)\n",
    "print(type(name)) #呼叫function\n",
    "print('================')\n",
    "\n",
    "\n",
    "age = 18\n",
    "print(age)\n",
    "print(type(age))\n",
    "print('=================')\n",
    "\n",
    "height = 175.5\n",
    "print(height)\n",
    "print(type(height))\n",
    "print('===============')\n",
    "\n",
    "\n",
    "is_student = True\n",
    "print(is_student)\n",
    "print(type(is_student))"
   ]
  },
  {
   "cell_type": "code",
   "execution_count": 19,
   "id": "f856360b",
   "metadata": {},
   "outputs": [
    {
     "name": "stdout",
     "output_type": "stream",
     "text": [
      "name變數儲存的值是小明,資料類型是:<class 'str'>.\n",
      "age變數儲存的值是18,資料類型是:<class 'int'>.\n"
     ]
    }
   ],
   "source": [
    "print(\"name變數儲存的值是\",name,\",資料類型是:\",type(name),sep='',end='.\\n')\n",
    "print(\"age變數儲存的值是\",age,\",資料類型是:\",type(age),sep='',end='.\\n')"
   ]
  },
  {
   "cell_type": "code",
   "execution_count": null,
   "id": "bac2106c",
   "metadata": {},
   "outputs": [
    {
     "name": "stdout",
     "output_type": "stream",
     "text": [
      "name變數儲存的值是小明,資料類型是:<class 'str'>.\n",
      "age變數儲存的值是18,資料類型是:<class 'int'>.\n"
     ]
    }
   ],
   "source": [
    "#字串插補\n",
    "print(f\"name變數儲存的值是{name},資料類型是:{type(name)}.\")\n",
    "print(f\"age變數儲存的值是{age},資料類型是:{type(age)}.\")"
   ]
  },
  {
   "cell_type": "code",
   "execution_count": 24,
   "id": "95bb4456",
   "metadata": {},
   "outputs": [
    {
     "name": "stdout",
     "output_type": "stream",
     "text": [
      "加法 a + b = 10\n",
      "減法 a - b = 4\n",
      "乘法 a * b = 21\n",
      "除法 a / b = 2.33\n",
      "取餘數 a % b = 1\n",
      "次方 a ** b = 343\n"
     ]
    }
   ],
   "source": [
    "# 數學運算範例\n",
    "a = 7\n",
    "b = 3\n",
    "\n",
    "addition = a + b\n",
    "subtraction = a - b\n",
    "multiplication = a * b\n",
    "division = a / b\n",
    "modulus = a % b\n",
    "exponent = a ** b\n",
    "\n",
    "print(f\"加法 a + b = {addition}\")\n",
    "print(f\"減法 a - b = {subtraction}\")\n",
    "print(f\"乘法 a * b = {multiplication}\")\n",
    "print(f\"除法 a / b = {division:.2f}\")\n",
    "print(f\"取餘數 a % b = {modulus}\")\n",
    "print(f\"次方 a ** b = {exponent}\")"
   ]
  }
 ],
 "metadata": {
  "kernelspec": {
   "display_name": "langchain",
   "language": "python",
   "name": "python3"
  },
  "language_info": {
   "codemirror_mode": {
    "name": "ipython",
    "version": 3
   },
   "file_extension": ".py",
   "mimetype": "text/x-python",
   "name": "python",
   "nbconvert_exporter": "python",
   "pygments_lexer": "ipython3",
   "version": "3.11.13"
  }
 },
 "nbformat": 4,
 "nbformat_minor": 5
}
