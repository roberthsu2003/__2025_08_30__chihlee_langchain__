{
 "cells": [
  {
   "cell_type": "markdown",
   "id": "0b6549cb",
   "metadata": {},
   "source": [
    "## python 數學運算"
   ]
  },
  {
   "cell_type": "markdown",
   "id": "c7a0ae82",
   "metadata": {},
   "source": [
    "```\n",
    "# 基本語法：變數名稱 = 值\n",
    "name = \"小明\"\n",
    "age = 18\n",
    "height = 175.5\n",
    "is_student = True\n",
    "```"
   ]
  },
  {
   "cell_type": "code",
   "execution_count": 12,
   "id": "5262887e",
   "metadata": {},
   "outputs": [
    {
     "name": "stdout",
     "output_type": "stream",
     "text": [
      "小明\n",
      "<class 'str'>\n",
      "================\n",
      "18\n",
      "<class 'int'>\n",
      "=================\n",
      "175.5\n",
      "<class 'float'>\n",
      "===============\n",
      "True\n",
      "<class 'bool'>\n"
     ]
    }
   ],
   "source": [
    "name = \"小明\"\n",
    "print(name)\n",
    "print(type(name)) #呼叫function\n",
    "print('================')\n",
    "\n",
    "\n",
    "age = 18\n",
    "print(age)\n",
    "print(type(age))\n",
    "print('=================')\n",
    "\n",
    "height = 175.5\n",
    "print(height)\n",
    "print(type(height))\n",
    "print('===============')\n",
    "\n",
    "\n",
    "is_student = True\n",
    "print(is_student)\n",
    "print(type(is_student))"
   ]
  },
  {
   "cell_type": "code",
   "execution_count": 19,
   "id": "f856360b",
   "metadata": {},
   "outputs": [
    {
     "name": "stdout",
     "output_type": "stream",
     "text": [
      "name變數儲存的值是小明,資料類型是:<class 'str'>.\n",
      "age變數儲存的值是18,資料類型是:<class 'int'>.\n"
     ]
    }
   ],
   "source": [
    "print(\"name變數儲存的值是\",name,\",資料類型是:\",type(name),sep='',end='.\\n')\n",
    "print(\"age變數儲存的值是\",age,\",資料類型是:\",type(age),sep='',end='.\\n')"
   ]
  },
  {
   "cell_type": "code",
   "execution_count": 21,
   "id": "bac2106c",
   "metadata": {},
   "outputs": [
    {
     "name": "stdout",
     "output_type": "stream",
     "text": [
      "name變數儲存的值是小明,資料類型是:<class 'str'>.\n",
      "age變數儲存的值是18,資料類型是:<class 'int'>.\n"
     ]
    }
   ],
   "source": [
    "#字串插補\n",
    "print(f\"name變數儲存的值是{name},資料類型是:{type(name)}.\")\n",
    "print(f\"age變數儲存的值是{age},資料類型是:{type(age)}.\")"
   ]
  },
  {
   "cell_type": "code",
   "execution_count": 24,
   "id": "95bb4456",
   "metadata": {},
   "outputs": [
    {
     "name": "stdout",
     "output_type": "stream",
     "text": [
      "加法 a + b = 10\n",
      "減法 a - b = 4\n",
      "乘法 a * b = 21\n",
      "除法 a / b = 2.33\n",
      "取餘數 a % b = 1\n",
      "次方 a ** b = 343\n"
     ]
    }
   ],
   "source": [
    "# 數學運算範例\n",
    "first_number = 7\n",
    "second_number = 3\n",
    "\n",
    "addition_result = first_number + second_number\n",
    "subtraction_result = first_number - second_number\n",
    "multiplication_result = first_number * second_number\n",
    "division_result = first_number / second_number\n",
    "remainder_result = first_number % second_number\n",
    "exponent_result = first_number ** second_number\n",
    "\n",
    "print(f\"加法 {first_number} + {second_number} = {addition_result}\")\n",
    "print(f\"減法 {first_number} - {second_number} = {subtraction_result}\")\n",
    "print(f\"乘法 {first_number} * {second_number} = {multiplication_result}\")\n",
    "print(f\"除法 {first_number} / {second_number} = {division_result:.2f}\")\n",
    "print(f\"取餘數 {first_number} % {second_number} = {remainder_result}\")\n",
    "print(f\"次方 {first_number} ** {second_number} = {exponent_result}\")"
   ]
  },
  {
   "cell_type": "code",
   "execution_count": 25,
   "id": "2c3184c4",
   "metadata": {},
   "outputs": [
    {
     "name": "stdout",
     "output_type": "stream",
     "text": [
      "斜邊長度 = 5.00\n"
     ]
    }
   ],
   "source": [
    "# 有一個直角三角形，已知兩邊長，求第三邊長\n",
    "# 已知兩邊長，求第三邊長\n",
    "\n",
    "import math\n",
    "\n",
    "adjacent_side = 3  # 鄰邊長度\n",
    "opposite_side = 4  # 對邊長度\n",
    "\n",
    "# 使用畢氏定理計算斜邊長度\n",
    "hypotenuse_length = math.sqrt(adjacent_side**2 + opposite_side**2)\n",
    "\n",
    "print(f\"斜邊長度 = {hypotenuse_length:.2f}\")"
   ]
  },
  {
   "cell_type": "code",
   "execution_count": 27,
   "id": "d6a69f73",
   "metadata": {},
   "outputs": [
    {
     "name": "stdout",
     "output_type": "stream",
     "text": [
      "斜邊長度 = 6.40\n"
     ]
    }
   ],
   "source": [
    "import math\n",
    "\n",
    "adjacent_side = 5\n",
    "opposite_side = 4\n",
    "\n",
    "hypotenuse_length = math.sqrt(adjacent_side ** 2 + opposite_side ** 2)\n",
    "print(f\"斜邊長度 = {hypotenuse_length:.2f}\")"
   ]
  }
 ],
 "metadata": {
  "kernelspec": {
   "display_name": "langchain",
   "language": "python",
   "name": "python3"
  },
  "language_info": {
   "codemirror_mode": {
    "name": "ipython",
    "version": 3
   },
   "file_extension": ".py",
   "mimetype": "text/x-python",
   "name": "python",
   "nbconvert_exporter": "python",
   "pygments_lexer": "ipython3",
   "version": "3.11.13"
  }
 },
 "nbformat": 4,
 "nbformat_minor": 5
}
